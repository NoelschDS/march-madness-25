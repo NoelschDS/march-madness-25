{
 "cells": [
  {
   "cell_type": "markdown",
   "metadata": {},
   "source": [
    "Import libraries and Data"
   ]
  },
  {
   "cell_type": "code",
   "execution_count": 131,
   "metadata": {},
   "outputs": [],
   "source": [
    "import pandas as pd\n",
    "import numpy as np\n",
    "from sklearn.model_selection import train_test_split\n",
    "from sklearn.metrics import accuracy_score\n",
    "from sklearn.ensemble import RandomForestClassifier"
   ]
  },
  {
   "cell_type": "code",
   "execution_count": 132,
   "metadata": {},
   "outputs": [],
   "source": [
    "MTeams = pd.read_csv('MTeams.csv')\n",
    "MSeasons = pd.read_csv('MSeasons.csv')\n",
    "MNCAATourneySeeds = pd.read_csv('MNCAATourneySeeds.csv')\n",
    "MRegularSeasonCompactResults = pd.read_csv('MRegularSeasonCompactResults.csv') \n",
    "MNCAATourneyCompactResults = pd.read_csv('MNCAATourneyCompactResults.csv')\n",
    "SampleSubmissionStage1 = pd.read_csv('SampleSubmissionStage1.csv')\n",
    "SampleSubmissionStage2 = pd.read_csv('SampleSubmissionStage2.csv')\n",
    "MMasseyOrdinals = pd.read_csv('MMasseyOrdinals.csv')"
   ]
  },
  {
   "cell_type": "markdown",
   "metadata": {},
   "source": [
    "Data Exploration"
   ]
  },
  {
   "cell_type": "code",
   "execution_count": 133,
   "metadata": {},
   "outputs": [
    {
     "data": {
      "text/html": [
       "<div>\n",
       "<style scoped>\n",
       "    .dataframe tbody tr th:only-of-type {\n",
       "        vertical-align: middle;\n",
       "    }\n",
       "\n",
       "    .dataframe tbody tr th {\n",
       "        vertical-align: top;\n",
       "    }\n",
       "\n",
       "    .dataframe thead th {\n",
       "        text-align: right;\n",
       "    }\n",
       "</style>\n",
       "<table border=\"1\" class=\"dataframe\">\n",
       "  <thead>\n",
       "    <tr style=\"text-align: right;\">\n",
       "      <th></th>\n",
       "      <th>TeamID</th>\n",
       "      <th>TeamName</th>\n",
       "      <th>FirstD1Season</th>\n",
       "      <th>LastD1Season</th>\n",
       "    </tr>\n",
       "  </thead>\n",
       "  <tbody>\n",
       "    <tr>\n",
       "      <th>0</th>\n",
       "      <td>1101</td>\n",
       "      <td>Abilene Chr</td>\n",
       "      <td>2014</td>\n",
       "      <td>2025</td>\n",
       "    </tr>\n",
       "    <tr>\n",
       "      <th>1</th>\n",
       "      <td>1102</td>\n",
       "      <td>Air Force</td>\n",
       "      <td>1985</td>\n",
       "      <td>2025</td>\n",
       "    </tr>\n",
       "    <tr>\n",
       "      <th>2</th>\n",
       "      <td>1103</td>\n",
       "      <td>Akron</td>\n",
       "      <td>1985</td>\n",
       "      <td>2025</td>\n",
       "    </tr>\n",
       "    <tr>\n",
       "      <th>3</th>\n",
       "      <td>1104</td>\n",
       "      <td>Alabama</td>\n",
       "      <td>1985</td>\n",
       "      <td>2025</td>\n",
       "    </tr>\n",
       "    <tr>\n",
       "      <th>4</th>\n",
       "      <td>1105</td>\n",
       "      <td>Alabama A&amp;M</td>\n",
       "      <td>2000</td>\n",
       "      <td>2025</td>\n",
       "    </tr>\n",
       "  </tbody>\n",
       "</table>\n",
       "</div>"
      ],
      "text/plain": [
       "   TeamID     TeamName  FirstD1Season  LastD1Season\n",
       "0    1101  Abilene Chr           2014          2025\n",
       "1    1102    Air Force           1985          2025\n",
       "2    1103        Akron           1985          2025\n",
       "3    1104      Alabama           1985          2025\n",
       "4    1105  Alabama A&M           2000          2025"
      ]
     },
     "execution_count": 133,
     "metadata": {},
     "output_type": "execute_result"
    }
   ],
   "source": [
    "MTeams.head()"
   ]
  },
  {
   "cell_type": "code",
   "execution_count": 134,
   "metadata": {},
   "outputs": [
    {
     "data": {
      "text/html": [
       "<div>\n",
       "<style scoped>\n",
       "    .dataframe tbody tr th:only-of-type {\n",
       "        vertical-align: middle;\n",
       "    }\n",
       "\n",
       "    .dataframe tbody tr th {\n",
       "        vertical-align: top;\n",
       "    }\n",
       "\n",
       "    .dataframe thead th {\n",
       "        text-align: right;\n",
       "    }\n",
       "</style>\n",
       "<table border=\"1\" class=\"dataframe\">\n",
       "  <thead>\n",
       "    <tr style=\"text-align: right;\">\n",
       "      <th></th>\n",
       "      <th>Season</th>\n",
       "      <th>DayZero</th>\n",
       "      <th>RegionW</th>\n",
       "      <th>RegionX</th>\n",
       "      <th>RegionY</th>\n",
       "      <th>RegionZ</th>\n",
       "    </tr>\n",
       "  </thead>\n",
       "  <tbody>\n",
       "    <tr>\n",
       "      <th>0</th>\n",
       "      <td>1985</td>\n",
       "      <td>10/29/1984</td>\n",
       "      <td>East</td>\n",
       "      <td>West</td>\n",
       "      <td>Midwest</td>\n",
       "      <td>Southeast</td>\n",
       "    </tr>\n",
       "    <tr>\n",
       "      <th>1</th>\n",
       "      <td>1986</td>\n",
       "      <td>10/28/1985</td>\n",
       "      <td>East</td>\n",
       "      <td>Midwest</td>\n",
       "      <td>Southeast</td>\n",
       "      <td>West</td>\n",
       "    </tr>\n",
       "    <tr>\n",
       "      <th>2</th>\n",
       "      <td>1987</td>\n",
       "      <td>10/27/1986</td>\n",
       "      <td>East</td>\n",
       "      <td>Southeast</td>\n",
       "      <td>Midwest</td>\n",
       "      <td>West</td>\n",
       "    </tr>\n",
       "    <tr>\n",
       "      <th>3</th>\n",
       "      <td>1988</td>\n",
       "      <td>11/02/1987</td>\n",
       "      <td>East</td>\n",
       "      <td>Midwest</td>\n",
       "      <td>Southeast</td>\n",
       "      <td>West</td>\n",
       "    </tr>\n",
       "    <tr>\n",
       "      <th>4</th>\n",
       "      <td>1989</td>\n",
       "      <td>10/31/1988</td>\n",
       "      <td>East</td>\n",
       "      <td>West</td>\n",
       "      <td>Midwest</td>\n",
       "      <td>Southeast</td>\n",
       "    </tr>\n",
       "  </tbody>\n",
       "</table>\n",
       "</div>"
      ],
      "text/plain": [
       "   Season     DayZero RegionW    RegionX    RegionY    RegionZ\n",
       "0    1985  10/29/1984    East       West    Midwest  Southeast\n",
       "1    1986  10/28/1985    East    Midwest  Southeast       West\n",
       "2    1987  10/27/1986    East  Southeast    Midwest       West\n",
       "3    1988  11/02/1987    East    Midwest  Southeast       West\n",
       "4    1989  10/31/1988    East       West    Midwest  Southeast"
      ]
     },
     "execution_count": 134,
     "metadata": {},
     "output_type": "execute_result"
    }
   ],
   "source": [
    "MSeasons.head()"
   ]
  },
  {
   "cell_type": "code",
   "execution_count": 135,
   "metadata": {},
   "outputs": [
    {
     "data": {
      "text/html": [
       "<div>\n",
       "<style scoped>\n",
       "    .dataframe tbody tr th:only-of-type {\n",
       "        vertical-align: middle;\n",
       "    }\n",
       "\n",
       "    .dataframe tbody tr th {\n",
       "        vertical-align: top;\n",
       "    }\n",
       "\n",
       "    .dataframe thead th {\n",
       "        text-align: right;\n",
       "    }\n",
       "</style>\n",
       "<table border=\"1\" class=\"dataframe\">\n",
       "  <thead>\n",
       "    <tr style=\"text-align: right;\">\n",
       "      <th></th>\n",
       "      <th>Season</th>\n",
       "      <th>Seed</th>\n",
       "      <th>TeamID</th>\n",
       "    </tr>\n",
       "  </thead>\n",
       "  <tbody>\n",
       "    <tr>\n",
       "      <th>0</th>\n",
       "      <td>1985</td>\n",
       "      <td>W01</td>\n",
       "      <td>1207</td>\n",
       "    </tr>\n",
       "    <tr>\n",
       "      <th>1</th>\n",
       "      <td>1985</td>\n",
       "      <td>W02</td>\n",
       "      <td>1210</td>\n",
       "    </tr>\n",
       "    <tr>\n",
       "      <th>2</th>\n",
       "      <td>1985</td>\n",
       "      <td>W03</td>\n",
       "      <td>1228</td>\n",
       "    </tr>\n",
       "    <tr>\n",
       "      <th>3</th>\n",
       "      <td>1985</td>\n",
       "      <td>W04</td>\n",
       "      <td>1260</td>\n",
       "    </tr>\n",
       "    <tr>\n",
       "      <th>4</th>\n",
       "      <td>1985</td>\n",
       "      <td>W05</td>\n",
       "      <td>1374</td>\n",
       "    </tr>\n",
       "  </tbody>\n",
       "</table>\n",
       "</div>"
      ],
      "text/plain": [
       "   Season Seed  TeamID\n",
       "0    1985  W01    1207\n",
       "1    1985  W02    1210\n",
       "2    1985  W03    1228\n",
       "3    1985  W04    1260\n",
       "4    1985  W05    1374"
      ]
     },
     "execution_count": 135,
     "metadata": {},
     "output_type": "execute_result"
    }
   ],
   "source": [
    "MNCAATourneySeeds.head()"
   ]
  },
  {
   "cell_type": "code",
   "execution_count": 136,
   "metadata": {},
   "outputs": [
    {
     "data": {
      "text/html": [
       "<div>\n",
       "<style scoped>\n",
       "    .dataframe tbody tr th:only-of-type {\n",
       "        vertical-align: middle;\n",
       "    }\n",
       "\n",
       "    .dataframe tbody tr th {\n",
       "        vertical-align: top;\n",
       "    }\n",
       "\n",
       "    .dataframe thead th {\n",
       "        text-align: right;\n",
       "    }\n",
       "</style>\n",
       "<table border=\"1\" class=\"dataframe\">\n",
       "  <thead>\n",
       "    <tr style=\"text-align: right;\">\n",
       "      <th></th>\n",
       "      <th>Season</th>\n",
       "      <th>DayNum</th>\n",
       "      <th>WTeamID</th>\n",
       "      <th>WScore</th>\n",
       "      <th>LTeamID</th>\n",
       "      <th>LScore</th>\n",
       "      <th>WLoc</th>\n",
       "      <th>NumOT</th>\n",
       "    </tr>\n",
       "  </thead>\n",
       "  <tbody>\n",
       "    <tr>\n",
       "      <th>192492</th>\n",
       "      <td>2025</td>\n",
       "      <td>120</td>\n",
       "      <td>1433</td>\n",
       "      <td>71</td>\n",
       "      <td>1182</td>\n",
       "      <td>62</td>\n",
       "      <td>A</td>\n",
       "      <td>0</td>\n",
       "    </tr>\n",
       "    <tr>\n",
       "      <th>192493</th>\n",
       "      <td>2025</td>\n",
       "      <td>120</td>\n",
       "      <td>1436</td>\n",
       "      <td>79</td>\n",
       "      <td>1107</td>\n",
       "      <td>71</td>\n",
       "      <td>H</td>\n",
       "      <td>0</td>\n",
       "    </tr>\n",
       "    <tr>\n",
       "      <th>192494</th>\n",
       "      <td>2025</td>\n",
       "      <td>120</td>\n",
       "      <td>1438</td>\n",
       "      <td>60</td>\n",
       "      <td>1199</td>\n",
       "      <td>57</td>\n",
       "      <td>H</td>\n",
       "      <td>0</td>\n",
       "    </tr>\n",
       "    <tr>\n",
       "      <th>192495</th>\n",
       "      <td>2025</td>\n",
       "      <td>120</td>\n",
       "      <td>1452</td>\n",
       "      <td>71</td>\n",
       "      <td>1428</td>\n",
       "      <td>69</td>\n",
       "      <td>A</td>\n",
       "      <td>0</td>\n",
       "    </tr>\n",
       "    <tr>\n",
       "      <th>192496</th>\n",
       "      <td>2025</td>\n",
       "      <td>120</td>\n",
       "      <td>1460</td>\n",
       "      <td>98</td>\n",
       "      <td>1237</td>\n",
       "      <td>85</td>\n",
       "      <td>H</td>\n",
       "      <td>0</td>\n",
       "    </tr>\n",
       "  </tbody>\n",
       "</table>\n",
       "</div>"
      ],
      "text/plain": [
       "        Season  DayNum  WTeamID  WScore  LTeamID  LScore WLoc  NumOT\n",
       "192492    2025     120     1433      71     1182      62    A      0\n",
       "192493    2025     120     1436      79     1107      71    H      0\n",
       "192494    2025     120     1438      60     1199      57    H      0\n",
       "192495    2025     120     1452      71     1428      69    A      0\n",
       "192496    2025     120     1460      98     1237      85    H      0"
      ]
     },
     "execution_count": 136,
     "metadata": {},
     "output_type": "execute_result"
    }
   ],
   "source": [
    "MRegularSeasonCompactResults.tail()"
   ]
  },
  {
   "cell_type": "code",
   "execution_count": 137,
   "metadata": {},
   "outputs": [
    {
     "data": {
      "text/html": [
       "<div>\n",
       "<style scoped>\n",
       "    .dataframe tbody tr th:only-of-type {\n",
       "        vertical-align: middle;\n",
       "    }\n",
       "\n",
       "    .dataframe tbody tr th {\n",
       "        vertical-align: top;\n",
       "    }\n",
       "\n",
       "    .dataframe thead th {\n",
       "        text-align: right;\n",
       "    }\n",
       "</style>\n",
       "<table border=\"1\" class=\"dataframe\">\n",
       "  <thead>\n",
       "    <tr style=\"text-align: right;\">\n",
       "      <th></th>\n",
       "      <th>Season</th>\n",
       "      <th>DayNum</th>\n",
       "      <th>WTeamID</th>\n",
       "      <th>WScore</th>\n",
       "      <th>LTeamID</th>\n",
       "      <th>LScore</th>\n",
       "      <th>WLoc</th>\n",
       "      <th>NumOT</th>\n",
       "    </tr>\n",
       "  </thead>\n",
       "  <tbody>\n",
       "    <tr>\n",
       "      <th>2513</th>\n",
       "      <td>2024</td>\n",
       "      <td>146</td>\n",
       "      <td>1301</td>\n",
       "      <td>76</td>\n",
       "      <td>1181</td>\n",
       "      <td>64</td>\n",
       "      <td>N</td>\n",
       "      <td>0</td>\n",
       "    </tr>\n",
       "    <tr>\n",
       "      <th>2514</th>\n",
       "      <td>2024</td>\n",
       "      <td>146</td>\n",
       "      <td>1345</td>\n",
       "      <td>72</td>\n",
       "      <td>1397</td>\n",
       "      <td>66</td>\n",
       "      <td>N</td>\n",
       "      <td>0</td>\n",
       "    </tr>\n",
       "    <tr>\n",
       "      <th>2515</th>\n",
       "      <td>2024</td>\n",
       "      <td>152</td>\n",
       "      <td>1163</td>\n",
       "      <td>86</td>\n",
       "      <td>1104</td>\n",
       "      <td>72</td>\n",
       "      <td>N</td>\n",
       "      <td>0</td>\n",
       "    </tr>\n",
       "    <tr>\n",
       "      <th>2516</th>\n",
       "      <td>2024</td>\n",
       "      <td>152</td>\n",
       "      <td>1345</td>\n",
       "      <td>63</td>\n",
       "      <td>1301</td>\n",
       "      <td>50</td>\n",
       "      <td>N</td>\n",
       "      <td>0</td>\n",
       "    </tr>\n",
       "    <tr>\n",
       "      <th>2517</th>\n",
       "      <td>2024</td>\n",
       "      <td>154</td>\n",
       "      <td>1163</td>\n",
       "      <td>75</td>\n",
       "      <td>1345</td>\n",
       "      <td>60</td>\n",
       "      <td>N</td>\n",
       "      <td>0</td>\n",
       "    </tr>\n",
       "  </tbody>\n",
       "</table>\n",
       "</div>"
      ],
      "text/plain": [
       "      Season  DayNum  WTeamID  WScore  LTeamID  LScore WLoc  NumOT\n",
       "2513    2024     146     1301      76     1181      64    N      0\n",
       "2514    2024     146     1345      72     1397      66    N      0\n",
       "2515    2024     152     1163      86     1104      72    N      0\n",
       "2516    2024     152     1345      63     1301      50    N      0\n",
       "2517    2024     154     1163      75     1345      60    N      0"
      ]
     },
     "execution_count": 137,
     "metadata": {},
     "output_type": "execute_result"
    }
   ],
   "source": [
    "MNCAATourneyCompactResults.tail()"
   ]
  },
  {
   "cell_type": "code",
   "execution_count": 138,
   "metadata": {},
   "outputs": [
    {
     "data": {
      "text/html": [
       "<div>\n",
       "<style scoped>\n",
       "    .dataframe tbody tr th:only-of-type {\n",
       "        vertical-align: middle;\n",
       "    }\n",
       "\n",
       "    .dataframe tbody tr th {\n",
       "        vertical-align: top;\n",
       "    }\n",
       "\n",
       "    .dataframe thead th {\n",
       "        text-align: right;\n",
       "    }\n",
       "</style>\n",
       "<table border=\"1\" class=\"dataframe\">\n",
       "  <thead>\n",
       "    <tr style=\"text-align: right;\">\n",
       "      <th></th>\n",
       "      <th>ID</th>\n",
       "      <th>Pred</th>\n",
       "    </tr>\n",
       "  </thead>\n",
       "  <tbody>\n",
       "    <tr>\n",
       "      <th>0</th>\n",
       "      <td>2021_1101_1102</td>\n",
       "      <td>0.5</td>\n",
       "    </tr>\n",
       "    <tr>\n",
       "      <th>1</th>\n",
       "      <td>2021_1101_1103</td>\n",
       "      <td>0.5</td>\n",
       "    </tr>\n",
       "    <tr>\n",
       "      <th>2</th>\n",
       "      <td>2021_1101_1104</td>\n",
       "      <td>0.5</td>\n",
       "    </tr>\n",
       "    <tr>\n",
       "      <th>3</th>\n",
       "      <td>2021_1101_1105</td>\n",
       "      <td>0.5</td>\n",
       "    </tr>\n",
       "    <tr>\n",
       "      <th>4</th>\n",
       "      <td>2021_1101_1106</td>\n",
       "      <td>0.5</td>\n",
       "    </tr>\n",
       "  </tbody>\n",
       "</table>\n",
       "</div>"
      ],
      "text/plain": [
       "               ID  Pred\n",
       "0  2021_1101_1102   0.5\n",
       "1  2021_1101_1103   0.5\n",
       "2  2021_1101_1104   0.5\n",
       "3  2021_1101_1105   0.5\n",
       "4  2021_1101_1106   0.5"
      ]
     },
     "execution_count": 138,
     "metadata": {},
     "output_type": "execute_result"
    }
   ],
   "source": [
    "SampleSubmissionStage1.head()"
   ]
  },
  {
   "cell_type": "code",
   "execution_count": 139,
   "metadata": {},
   "outputs": [
    {
     "data": {
      "text/html": [
       "<div>\n",
       "<style scoped>\n",
       "    .dataframe tbody tr th:only-of-type {\n",
       "        vertical-align: middle;\n",
       "    }\n",
       "\n",
       "    .dataframe tbody tr th {\n",
       "        vertical-align: top;\n",
       "    }\n",
       "\n",
       "    .dataframe thead th {\n",
       "        text-align: right;\n",
       "    }\n",
       "</style>\n",
       "<table border=\"1\" class=\"dataframe\">\n",
       "  <thead>\n",
       "    <tr style=\"text-align: right;\">\n",
       "      <th></th>\n",
       "      <th>ID</th>\n",
       "      <th>Pred</th>\n",
       "    </tr>\n",
       "  </thead>\n",
       "  <tbody>\n",
       "    <tr>\n",
       "      <th>0</th>\n",
       "      <td>2025_1101_1102</td>\n",
       "      <td>0.5</td>\n",
       "    </tr>\n",
       "    <tr>\n",
       "      <th>1</th>\n",
       "      <td>2025_1101_1103</td>\n",
       "      <td>0.5</td>\n",
       "    </tr>\n",
       "    <tr>\n",
       "      <th>2</th>\n",
       "      <td>2025_1101_1104</td>\n",
       "      <td>0.5</td>\n",
       "    </tr>\n",
       "    <tr>\n",
       "      <th>3</th>\n",
       "      <td>2025_1101_1105</td>\n",
       "      <td>0.5</td>\n",
       "    </tr>\n",
       "    <tr>\n",
       "      <th>4</th>\n",
       "      <td>2025_1101_1106</td>\n",
       "      <td>0.5</td>\n",
       "    </tr>\n",
       "  </tbody>\n",
       "</table>\n",
       "</div>"
      ],
      "text/plain": [
       "               ID  Pred\n",
       "0  2025_1101_1102   0.5\n",
       "1  2025_1101_1103   0.5\n",
       "2  2025_1101_1104   0.5\n",
       "3  2025_1101_1105   0.5\n",
       "4  2025_1101_1106   0.5"
      ]
     },
     "execution_count": 139,
     "metadata": {},
     "output_type": "execute_result"
    }
   ],
   "source": [
    "SampleSubmissionStage2.head()"
   ]
  },
  {
   "cell_type": "code",
   "execution_count": 140,
   "metadata": {},
   "outputs": [
    {
     "data": {
      "text/html": [
       "<div>\n",
       "<style scoped>\n",
       "    .dataframe tbody tr th:only-of-type {\n",
       "        vertical-align: middle;\n",
       "    }\n",
       "\n",
       "    .dataframe tbody tr th {\n",
       "        vertical-align: top;\n",
       "    }\n",
       "\n",
       "    .dataframe thead th {\n",
       "        text-align: right;\n",
       "    }\n",
       "</style>\n",
       "<table border=\"1\" class=\"dataframe\">\n",
       "  <thead>\n",
       "    <tr style=\"text-align: right;\">\n",
       "      <th></th>\n",
       "      <th>ID</th>\n",
       "      <th>Pred</th>\n",
       "      <th>Season</th>\n",
       "      <th>Team1</th>\n",
       "      <th>Team2</th>\n",
       "    </tr>\n",
       "  </thead>\n",
       "  <tbody>\n",
       "    <tr>\n",
       "      <th>0</th>\n",
       "      <td>2021_1101_1102</td>\n",
       "      <td>0.5</td>\n",
       "      <td>2021</td>\n",
       "      <td>1101</td>\n",
       "      <td>1102</td>\n",
       "    </tr>\n",
       "    <tr>\n",
       "      <th>1</th>\n",
       "      <td>2021_1101_1103</td>\n",
       "      <td>0.5</td>\n",
       "      <td>2021</td>\n",
       "      <td>1101</td>\n",
       "      <td>1103</td>\n",
       "    </tr>\n",
       "    <tr>\n",
       "      <th>2</th>\n",
       "      <td>2021_1101_1104</td>\n",
       "      <td>0.5</td>\n",
       "      <td>2021</td>\n",
       "      <td>1101</td>\n",
       "      <td>1104</td>\n",
       "    </tr>\n",
       "    <tr>\n",
       "      <th>3</th>\n",
       "      <td>2021_1101_1105</td>\n",
       "      <td>0.5</td>\n",
       "      <td>2021</td>\n",
       "      <td>1101</td>\n",
       "      <td>1105</td>\n",
       "    </tr>\n",
       "    <tr>\n",
       "      <th>4</th>\n",
       "      <td>2021_1101_1106</td>\n",
       "      <td>0.5</td>\n",
       "      <td>2021</td>\n",
       "      <td>1101</td>\n",
       "      <td>1106</td>\n",
       "    </tr>\n",
       "  </tbody>\n",
       "</table>\n",
       "</div>"
      ],
      "text/plain": [
       "               ID  Pred  Season  Team1  Team2\n",
       "0  2021_1101_1102   0.5    2021   1101   1102\n",
       "1  2021_1101_1103   0.5    2021   1101   1103\n",
       "2  2021_1101_1104   0.5    2021   1101   1104\n",
       "3  2021_1101_1105   0.5    2021   1101   1105\n",
       "4  2021_1101_1106   0.5    2021   1101   1106"
      ]
     },
     "execution_count": 140,
     "metadata": {},
     "output_type": "execute_result"
    }
   ],
   "source": [
    "SampleSubmissionStage1['Season'] = SampleSubmissionStage1['ID'].apply(lambda x: int(x.split('_')[0]))\n",
    "SampleSubmissionStage1['Team1'] = SampleSubmissionStage1['ID'].apply(lambda x: int(x.split('_')[1]))\n",
    "SampleSubmissionStage1['Team2'] = SampleSubmissionStage1['ID'].apply(lambda x: int(x.split('_')[2]))\n",
    "SampleSubmissionStage1.head()"
   ]
  },
  {
   "cell_type": "markdown",
   "metadata": {},
   "source": [
    "# Develop Model based on 2021 season"
   ]
  },
  {
   "cell_type": "markdown",
   "metadata": {},
   "source": [
    "Explore 2021 Data"
   ]
  },
  {
   "cell_type": "code",
   "execution_count": null,
   "metadata": {},
   "outputs": [],
   "source": [
    "MRegularSeason2021 = MRegularSeasonCompactResults[MRegularSeasonCompactResults['Season'] == 2021]\n",
    "MRegularSeason2021.head()\n",
    "Model_Input_21 = MTeams[MTeams['FirstD1Season'] <= 2021]"
   ]
  },
  {
   "cell_type": "code",
   "execution_count": null,
   "metadata": {},
   "outputs": [],
   "source": [
    "MMasseyOrdinals.head()"
   ]
  },
  {
   "cell_type": "code",
   "execution_count": null,
   "metadata": {},
   "outputs": [],
   "source": [
    "MMasseyOrdinals[MMasseyOrdinals['Season'] == 2021]['SystemName'].unique()"
   ]
  },
  {
   "cell_type": "code",
   "execution_count": null,
   "metadata": {},
   "outputs": [],
   "source": [
    "MMasseyOrdinals[MMasseyOrdinals['Season'] == 2021]['RankingDayNum'].value_counts()"
   ]
  },
  {
   "cell_type": "markdown",
   "metadata": {},
   "source": [
    "Create Functions for Key Indicators"
   ]
  },
  {
   "cell_type": "code",
   "execution_count": null,
   "metadata": {},
   "outputs": [],
   "source": [
    "from tqdm import tqdm\n",
    "\n",
    "def record_record(Team1):\n",
    "    Team1_wins = 0\n",
    "    Team1_losses = 0\n",
    "    for index, row in MRegularSeason2021.iterrows():\n",
    "        if row['WTeamID'] == Team1:\n",
    "            Team1_wins += 1\n",
    "        if row['LTeamID'] == Team1:\n",
    "            Team1_losses += 1\n",
    "    return Team1_wins, Team1_losses\n",
    "\n",
    "def avg_score_difference(Team1):\n",
    "    Team1_score_difference = 0\n",
    "    games = 0\n",
    "    for index, row in MRegularSeason2021.iterrows():\n",
    "        if row['WTeamID'] == Team1:\n",
    "            Team1_score_difference += row['WScore'] - row['LScore']\n",
    "            games += 1\n",
    "        if row['LTeamID'] == Team1:\n",
    "            Team1_score_difference += row['LScore'] - row['WScore']\n",
    "            games += 1\n",
    "    return Team1_score_difference/games if games != 0 else 0\n",
    "\n",
    "\n",
    "from tqdm import tqdm\n",
    "def weighted_avg_ranking(Team1, ranking_system, season):\n",
    "    # Filter data once\n",
    "    team_data = MMasseyOrdinals[(MMasseyOrdinals['Season'] == season) & \n",
    "                               (MMasseyOrdinals['TeamID'] == Team1) &\n",
    "                               (MMasseyOrdinals['SystemName'] == ranking_system)]\n",
    "    \n",
    "    if team_data.empty:\n",
    "        return 0  # Or another appropriate default value\n",
    "    \n",
    "    # Get unique ranking days\n",
    "    unique_days = team_data['RankingDayNum'].unique()\n",
    "    total_days = len(unique_days)\n",
    "    \n",
    "    # Initialize weights\n",
    "    weights = range(total_days, 0, -1)\n",
    "    \n",
    "    # If there are fewer team_data rows than days, we need to adjust\n",
    "    if len(team_data) < total_days:\n",
    "        weights = weights[:len(team_data)]\n",
    "    \n",
    "    # Calculate weighted average\n",
    "    weighted_sum = sum(row.OrdinalRank * weight for row, weight in tqdm(zip(team_data.itertuples(), weights), total=len(weights)))\n",
    "    total_weight = sum(weights)\n",
    "    \n",
    "    return weighted_sum / total_weight if total_weight > 0 else 0"
   ]
  },
  {
   "cell_type": "markdown",
   "metadata": {},
   "source": [
    "Apply Functions"
   ]
  },
  {
   "cell_type": "code",
   "execution_count": null,
   "metadata": {},
   "outputs": [],
   "source": [
    "\n",
    "Model_Input_21['Wins'] = Model_Input_21['TeamID'].apply(lambda x: record_record(x)[0])"
   ]
  },
  {
   "cell_type": "code",
   "execution_count": null,
   "metadata": {},
   "outputs": [],
   "source": [
    "Model_Input_21['avg_score_difference'] = Model_Input_21['TeamID'].apply(lambda x: avg_score_difference(x))"
   ]
  },
  {
   "cell_type": "code",
   "execution_count": null,
   "metadata": {},
   "outputs": [],
   "source": [
    "# Use POM ranking for now\n",
    "Model_Input_21['POM_avg'] = Model_Input_21['TeamID'].apply(lambda x: weighted_avg_ranking(x, 'POM', 2021))"
   ]
  },
  {
   "cell_type": "markdown",
   "metadata": {},
   "source": [
    "Merge new features with submission table with 2021 values"
   ]
  },
  {
   "cell_type": "code",
   "execution_count": null,
   "metadata": {},
   "outputs": [],
   "source": [
    "SampleSubmissionStage1_2021 = SampleSubmissionStage1[SampleSubmissionStage1['Season'] == 2021]\n",
    "SampleSubmissionStage1_2021.head()\n",
    "\n",
    "# Merge for Team1\n",
    "SampleSubmissionStage1_2021 = SampleSubmissionStage1_2021.merge(\n",
    "    Model_Input_21[['TeamID', 'Wins', 'avg_score_difference', 'POM_avg']],\n",
    "    left_on='Team1', right_on='TeamID', how='left'\n",
    ").rename(columns={\n",
    "    'Wins': 'Team1_wins',\n",
    "    'avg_score_difference': 'Team1_avg_score_difference',\n",
    "    'POM_avg': 'Team1_POM_avg'\n",
    "}).drop(columns=['TeamID'])\n",
    "\n",
    "# Merge for Team2\n",
    "SampleSubmissionStage1_2021 = SampleSubmissionStage1_2021.merge(\n",
    "    Model_Input_21[['TeamID', 'Wins', 'avg_score_difference', 'POM_avg']],\n",
    "    left_on='Team2', right_on='TeamID', how='left'\n",
    ").rename(columns={\n",
    "    'Wins': 'Team2_wins',\n",
    "    'avg_score_difference': 'Team2_avg_score_difference',\n",
    "    'POM_avg': 'Team2_POM_avg'\n",
    "}).drop(columns=['TeamID'])\n",
    "\n",
    "SampleSubmissionStage1_2021.head()"
   ]
  },
  {
   "cell_type": "code",
   "execution_count": null,
   "metadata": {},
   "outputs": [],
   "source": [
    "# Merge for Team1\n",
    "SampleSubmissionStage1_2021 = SampleSubmissionStage1_2021.merge(\n",
    "    MRegularSeasonCompactResults[['Season', 'DayNum', 'WTeamID', 'WScore', 'LTeamID', 'LScore']],\n",
    "    left_on=['Season', 'Team1', 'Team2'],\n",
    "    right_on=['Season', 'WTeamID', 'LTeamID'],\n",
    "    how='left'\n",
    ").rename(columns={\n",
    "    'DayNum': 'Game1_DayNum',\n",
    "    'WScore': 'Game1_WScore',\n",
    "    'LScore': 'Game1_LScore',\n",
    "    'WTeamID': 'Game1_WTeamID',\n",
    "}).drop(columns=['LTeamID'])\n",
    "\n",
    "# Merge for Team2\n",
    "SampleSubmissionStage1_2021 = SampleSubmissionStage1_2021.merge(\n",
    "    MRegularSeasonCompactResults[['Season', 'DayNum', 'WTeamID', 'WScore', 'LTeamID', 'LScore']],\n",
    "    left_on=['Season', 'Team2', 'Team1'],\n",
    "    right_on=['Season', 'WTeamID', 'LTeamID'],\n",
    "    how='left'\n",
    ").rename(columns={\n",
    "    'DayNum': 'Game2_DayNum',\n",
    "    'WScore': 'Game2_WScore',\n",
    "    'LScore': 'Game2_LScore',\n",
    "    'WTeamID': 'Game2_WTeamID',\n",
    "}).drop(columns=['LTeamID'])\n",
    "\n",
    "SampleSubmissionStage1_2021.head()"
   ]
  },
  {
   "cell_type": "markdown",
   "metadata": {},
   "source": [
    "Extract matchups with regular season results to train with"
   ]
  },
  {
   "cell_type": "code",
   "execution_count": null,
   "metadata": {},
   "outputs": [],
   "source": [
    "train_21 = SampleSubmissionStage1_2021[SampleSubmissionStage1_2021['Game1_DayNum'].notnull()]\n",
    "train_21.head()"
   ]
  },
  {
   "cell_type": "code",
   "execution_count": null,
   "metadata": {},
   "outputs": [],
   "source": [
    "def classify(row):\n",
    "    if not pd.isna(row['Game2_WTeamID']):\n",
    "        return 1 if row['Game2_WTeamID'] == row['Team1'] else 0\n",
    "    else:\n",
    "        return 1 if row['Game1_WTeamID'] == row['Team1'] else 0\n",
    "\n",
    "train_21['Classification'] = train_21.apply(classify, axis=1)\n",
    "train_21.head()"
   ]
  },
  {
   "cell_type": "markdown",
   "metadata": {},
   "source": [
    "Train the Model"
   ]
  },
  {
   "cell_type": "code",
   "execution_count": null,
   "metadata": {},
   "outputs": [],
   "source": [
    "import patsy as pt\n",
    "\n",
    "from sklearn.tree import DecisionTreeClassifier\n",
    "from sklearn.metrics import accuracy_score\n",
    "from sklearn.model_selection import train_test_split"
   ]
  },
  {
   "cell_type": "code",
   "execution_count": null,
   "metadata": {},
   "outputs": [],
   "source": [
    "from sklearn.metrics import brier_score_loss\n",
    "\n",
    "# Define the features and target variable\n",
    "features = ['Team1_wins', 'Team1_avg_score_difference', 'Team1_POM_avg', \n",
    "            'Team2_wins', 'Team2_avg_score_difference', 'Team2_POM_avg']\n",
    "target = 'Classification'\n",
    "\n",
    "# Split the data into training and testing sets\n",
    "X_train, X_test, y_train, y_test = train_test_split(train_21[features], train_21[target], test_size=0.2, random_state=42)\n",
    "\n",
    "# Initialize the DecisionTreeClassifier\n",
    "clf = RandomForestClassifier(random_state=40)\n",
    "\n",
    "# Train the classifier\n",
    "clf.fit(X_train, y_train)\n",
    "\n",
    "# Predict probabilities\n",
    "y_pred_proba = clf.predict_proba(X_test)[:, 1]\n",
    "\n",
    "# Calculate the Brier score\n",
    "brier_score = brier_score_loss(y_test, y_pred_proba)\n",
    "print(f'Brier Score: {brier_score}')"
   ]
  },
  {
   "cell_type": "code",
   "execution_count": null,
   "metadata": {},
   "outputs": [],
   "source": [
    "# Predict the probabilities\n",
    "y_pred_proba = clf.predict_proba(X_test)[:, 1]\n",
    "\n",
    "# Predict the classifications\n",
    "y_pred = clf.predict(X_test)\n",
    "\n",
    "# Calculate the accuracy\n",
    "accuracy = accuracy_score(y_test, y_pred)\n",
    "print(f'Accuracy: {accuracy}')\n",
    "\n",
    "# Display the predicted probabilities\n",
    "predicted_probabilities = pd.DataFrame({'Actual': y_test, 'Predicted': y_pred, 'Probability': y_pred_proba})\n",
    "predicted_probabilities.head()"
   ]
  },
  {
   "cell_type": "code",
   "execution_count": null,
   "metadata": {},
   "outputs": [],
   "source": [
    "import joblib\n",
    "\n",
    "# Save the model to a file\n",
    "joblib.dump(clf, 'random_forest_model.pkl')"
   ]
  },
  {
   "cell_type": "markdown",
   "metadata": {},
   "source": [
    "Predict the entire sample set"
   ]
  },
  {
   "cell_type": "code",
   "execution_count": null,
   "metadata": {},
   "outputs": [],
   "source": [
    "# Define the features for the entire 2021 sample set\n",
    "features_2021 = SampleSubmissionStage1_2021[['Team1_wins', 'Team1_avg_score_difference', 'Team1_POM_avg', \n",
    "                                             'Team2_wins', 'Team2_avg_score_difference', 'Team2_POM_avg']]\n",
    "\n",
    "# Predict probabilities for the entire 2021 sample set\n",
    "SampleSubmissionStage1_2021['Pred'] = clf.predict_proba(features_2021)[:, 1]\n",
    "\n",
    "# Use a 0.5 cutoff to create a 0/1 classification\n",
    "SampleSubmissionStage1_2021['Classification'] = (SampleSubmissionStage1_2021['Pred'] > 0.5).astype(int)\n",
    "\n",
    "# Display the updated dataframe with predictions\n",
    "SampleSubmissionStage1_2021.head()"
   ]
  },
  {
   "cell_type": "markdown",
   "metadata": {},
   "source": [
    "Check Predictions against extracted 2021 tourney results"
   ]
  },
  {
   "cell_type": "code",
   "execution_count": null,
   "metadata": {},
   "outputs": [],
   "source": [
    "# Filter for the 2021 season\n",
    "tourney_2021_results = MNCAATourneyCompactResults[MNCAATourneyCompactResults['Season'] == 2021][['WTeamID', 'LTeamID','DayNum']]\n",
    "tourney_2021_results['Team1'] = np.where(tourney_2021_results['WTeamID'] < tourney_2021_results['LTeamID'], \n",
    "                                         tourney_2021_results['WTeamID'], \n",
    "                                         tourney_2021_results['LTeamID'])\n",
    "tourney_2021_results['Team2'] = np.where(tourney_2021_results['WTeamID'] < tourney_2021_results['LTeamID'], \n",
    "                                         tourney_2021_results['LTeamID'], \n",
    "                                         tourney_2021_results['WTeamID'])\n",
    "tourney_2021_results.drop(columns=['LTeamID'], inplace=True)\n",
    "tourney_2021_results.head()"
   ]
  },
  {
   "cell_type": "code",
   "execution_count": null,
   "metadata": {},
   "outputs": [],
   "source": [
    "# Merge the dataframes on Team1 and Team2\n",
    "merged_results = SampleSubmissionStage1_2021.merge(\n",
    "    tourney_2021_results,\n",
    "    left_on=['Team1', 'Team2'],\n",
    "    right_on=['Team1', 'Team2'],\n",
    "    how='inner'\n",
    ")\n",
    "\n",
    "# Create the result column\n",
    "merged_results['Result'] = merged_results.apply(lambda row: 1 if row['Team1'] == row['WTeamID'] else 0, axis=1)\n",
    "\n",
    "# Select the required columns\n",
    "final_results = merged_results[['Team1', 'Team2', 'WTeamID', 'Pred', 'Classification', 'Result', 'DayNum']]\n",
    "\n",
    "# Order the results by DayNum\n",
    "final_results = final_results.sort_values(by='DayNum').reset_index(drop=True)\n",
    "\n",
    "final_results.head(50)"
   ]
  },
  {
   "cell_type": "code",
   "execution_count": null,
   "metadata": {},
   "outputs": [],
   "source": [
    "from sklearn.metrics import accuracy_score, brier_score_loss\n",
    "\n",
    "# Extract the actual results and predicted probabilities\n",
    "y_true = final_results['Result']\n",
    "y_pred_proba = final_results['Pred']\n",
    "y_pred = final_results['Classification']\n",
    "\n",
    "# Calculate accuracy\n",
    "accuracy = accuracy_score(y_true, y_pred)\n",
    "print(f'Accuracy: {accuracy}')\n",
    "\n",
    "# Calculate Brier score\n",
    "brier_score = brier_score_loss(y_true, y_pred_proba)\n",
    "print(f'Brier Score: {brier_score}')"
   ]
  }
 ],
 "metadata": {
  "kernelspec": {
   "display_name": "Python 3",
   "language": "python",
   "name": "python3"
  },
  "language_info": {
   "codemirror_mode": {
    "name": "ipython",
    "version": 3
   },
   "file_extension": ".py",
   "mimetype": "text/x-python",
   "name": "python",
   "nbconvert_exporter": "python",
   "pygments_lexer": "ipython3",
   "version": "3.12.6"
  }
 },
 "nbformat": 4,
 "nbformat_minor": 2
}
